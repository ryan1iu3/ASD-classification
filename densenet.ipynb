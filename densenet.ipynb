{
  "nbformat": 4,
  "nbformat_minor": 0,
  "metadata": {
    "accelerator": "GPU",
    "colab": {
      "provenance": []
    },
    "kernelspec": {
      "display_name": "Python 3",
      "name": "python3"
    }
  },
  "cells": [
    {
      "cell_type": "code",
      "metadata": {
        "colab": {
          "base_uri": "https://localhost:8080/",
          "height": 17
        },
        "id": "quCG0WXFgWIZ",
        "outputId": "937b768c-9cee-42de-f11e-1dc6543274b5"
      },
      "source": [
        "#!nvidia-smi\n",
        "import tensorflow as tf\n",
        "from tensorflow import keras\n",
        "from tensorflow.keras import backend as K\n",
        "from tensorflow.keras.layers import Dense, Activation,Dropout,Conv2D, MaxPooling2D,BatchNormalization\n",
        "from tensorflow.keras.optimizers import Adam, Adamax\n",
        "from tensorflow.keras.metrics import categorical_crossentropy\n",
        "from tensorflow.keras import regularizers\n",
        "from tensorflow.keras.preprocessing.image import ImageDataGenerator\n",
        "from tensorflow.keras.models import Model, load_model, Sequential\n",
        "import numpy as np\n",
        "import matplotlib.pyplot as plt\n",
        "from matplotlib.pyplot import imshow\n",
        "import time\n",
        "import os\n",
        "from PIL import Image\n",
        "from IPython.core.display import display, HTML\n",
        "display(HTML(\"<style>.container { width:100% !important; }</style>\"))\n",
        "\n",
        "\n",
        "import logging\n",
        "os.environ['TF_CPP_MIN_LOG_LEVEL'] = '3'  # FATAL\n",
        "logging.getLogger('tensorflow').setLevel(logging.FATAL)"
      ],
      "execution_count": null,
      "outputs": [
        {
          "output_type": "display_data",
          "data": {
            "text/html": [
              "<style>.container { width:100% !important; }</style>"
            ],
            "text/plain": [
              "<IPython.core.display.HTML object>"
            ]
          },
          "metadata": {
            "tags": []
          }
        }
      ]
    },
    {
      "cell_type": "code",
      "metadata": {
        "colab": {
          "base_uri": "https://localhost:8080/"
        },
        "id": "SuNQFf4MsOJm",
        "outputId": "79df07be-202f-4ae5-a818-55e13b35c844"
      },
      "source": [
        "from tensorflow.python.client import device_lib\n",
        "device_lib.list_local_devices()"
      ],
      "execution_count": null,
      "outputs": [
        {
          "output_type": "execute_result",
          "data": {
            "text/plain": [
              "[name: \"/device:CPU:0\"\n",
              " device_type: \"CPU\"\n",
              " memory_limit: 268435456\n",
              " locality {\n",
              " }\n",
              " incarnation: 14994416552977712639, name: \"/device:GPU:0\"\n",
              " device_type: \"GPU\"\n",
              " memory_limit: 14674281152\n",
              " locality {\n",
              "   bus_id: 1\n",
              "   links {\n",
              "   }\n",
              " }\n",
              " incarnation: 17010256352804880276\n",
              " physical_device_desc: \"device: 0, name: Tesla T4, pci bus id: 0000:00:04.0, compute capability: 7.5\"]"
            ]
          },
          "metadata": {
            "tags": []
          },
          "execution_count": 3
        }
      ]
    },
    {
      "cell_type": "code",
      "metadata": {
        "colab": {
          "base_uri": "https://localhost:8080/"
        },
        "id": "aSab2AoFsX7w",
        "outputId": "1b49a6e8-8b8e-4df3-89cc-af216146932a"
      },
      "source": [
        "from google.colab import drive\n",
        "drive.mount('/content/drive')"
      ],
      "execution_count": null,
      "outputs": [
        {
          "output_type": "stream",
          "text": [
            "Mounted at /content/drive\n"
          ],
          "name": "stdout"
        }
      ]
    },
    {
      "cell_type": "code",
      "metadata": {
        "colab": {
          "base_uri": "https://localhost:8080/"
        },
        "id": "J7m2xNOHg_3s",
        "outputId": "b55348ba-8a6c-4304-dd92-8ae6bfd9ffa8"
      },
      "source": [
        "dir=\"/content/drive/My Drive/Module 2 Material/kaggle2/\"\n",
        "print(dir)\n",
        "train_dir=os.path.join(dir,'train')\n",
        "test_dir=os.path.join(dir,'experiment')\n",
        "val_dir=os.path.join(dir,'valid')"
      ],
      "execution_count": null,
      "outputs": [
        {
          "output_type": "stream",
          "text": [
            "/content/drive/My Drive/Module 2 Material/kaggle2/\n"
          ],
          "name": "stdout"
        }
      ]
    },
    {
      "cell_type": "code",
      "metadata": {
        "id": "gFnxJkxBhC9K"
      },
      "source": [
        "def print_in_color(txt_msg,fore_tupple,back_tupple,):\n",
        "    #prints the text_msg in the foreground color specified by fore_tupple with the background specified by back_tupple\n",
        "    #text_msg is the text, fore_tupple is foregroud color tupple (r,g,b), back_tupple is background tupple (r,g,b)\n",
        "    rf,gf,bf=fore_tupple\n",
        "    rb,gb,bb=back_tupple\n",
        "    msg='{0}' + txt_msg\n",
        "    mat='\\33[38;2;' + str(rf) +';' + str(gf) + ';' + str(bf) + ';48;2;' + str(rb) + ';' +str(gb) + ';' + str(bb) +'m'\n",
        "    print(msg .format(mat))\n",
        "    print('\\33[0m') # returns default print color to back to black\n",
        "    return"
      ],
      "execution_count": null,
      "outputs": []
    },
    {
      "cell_type": "code",
      "metadata": {
        "id": "olbq6mQphsJG"
      },
      "source": [
        "classes=os.listdir(train_dir) # class names are the names of the sub directories\n",
        "class_count=len(classes) # determine number of classes\n",
        "batch_size=56 # set training batch size\n",
        "rand_seed=123\n",
        "start_epoch=0 # specify starting epoch\n",
        "epochs=30 # specify the number of epochs to run\n",
        "img_size=224 # use 224 X 224 images compatible with mobilenet model\n",
        "lr=.001 # specify initial learning rate"
      ],
      "execution_count": null,
      "outputs": []
    },
    {
      "cell_type": "code",
      "metadata": {
        "id": "0FBBa6whvPyn"
      },
      "source": [
        "def get_bs(dir,b_max):\n",
        "    # dir is the directory containing the samples, b_max is maximum batch size to allow based on your memory capacity\n",
        "    # you only want to go through test and validation set once per epoch this function determines needed batch size ans steps per epoch\n",
        "    length=0\n",
        "    dir_list=os.listdir(dir)\n",
        "    for d in dir_list:\n",
        "        d_path=os.path.join (dir,d)\n",
        "        length=length + len(os.listdir(d_path))\n",
        "    batch_size=sorted([int(length/n) for n in range(1,length+1) if length % n ==0 and length/n<=b_max],reverse=True)[0]\n",
        "    return batch_size,int(length/batch_size)"
      ],
      "execution_count": null,
      "outputs": []
    },
    {
      "cell_type": "code",
      "metadata": {
        "id": "_S560QvCvkLM"
      },
      "source": [
        "valid_batch_size, valid_steps=get_bs(val_dir, 100)\n",
        "test_batch_size, test_steps=get_bs(test_dir,100)"
      ],
      "execution_count": null,
      "outputs": []
    },
    {
      "cell_type": "code",
      "metadata": {
        "colab": {
          "base_uri": "https://localhost:8080/"
        },
        "id": "iVmdga7Uvmcd",
        "outputId": "09903444-afe0-4729-d74e-5b1a2b93ccfc"
      },
      "source": [
        "train_gen=ImageDataGenerator(preprocessing_function=keras.applications.mobilenet.preprocess_input, horizontal_flip=True).flow_from_directory(\n",
        "        train_dir,  target_size=(img_size, img_size), batch_size=batch_size, seed=rand_seed, class_mode='categorical', color_mode='rgb')\n",
        "\n",
        "valid_gen=ImageDataGenerator(preprocessing_function=keras.applications.mobilenet.preprocess_input) .flow_from_directory(val_dir,\n",
        "                    target_size=(img_size, img_size), batch_size=valid_batch_size,\n",
        "                    class_mode='categorical',color_mode='rgb', shuffle=False)\n",
        "test_gen=ImageDataGenerator(preprocessing_function=keras.applications.mobilenet.preprocess_input).flow_from_directory(test_dir,\n",
        "                    target_size=(img_size, img_size), batch_size=test_batch_size,\n",
        "                    class_mode='categorical',color_mode='rgb', shuffle=False )\n",
        "test_file_names=test_gen.filenames  # save list of test files names to be used later\n",
        "test_labels=test_gen.labels # save test labels to be used later\n",
        "\n",
        "val_file_names=valid_gen.filenames  # save list of test files names to be used later\n",
        "val_labels=valid_gen.labels # save test labels to be used later"
      ],
      "execution_count": null,
      "outputs": [
        {
          "output_type": "stream",
          "text": [
            "Found 2536 images belonging to 2 classes.\n",
            "Found 197 images belonging to 2 classes.\n",
            "Found 19 images belonging to 2 classes.\n"
          ],
          "name": "stdout"
        }
      ]
    },
    {
      "cell_type": "code",
      "metadata": {
        "id": "7-0scr3-vpDc"
      },
      "source": [
        "images,labels=next(train_gen)\n",
        "plt.figure(figsize=(20, 20))\n",
        "for i in range(25):\n",
        "    plt.subplot(5, 5, i + 1)\n",
        "    image=(images[i]+1 )/2\n",
        "    plt.imshow(image)\n",
        "    index=int(labels[i][1])\n",
        "    plt.title(classes[index], color='white')\n",
        "    plt.axis('off')\n",
        "plt.show()"
      ],
      "execution_count": null,
      "outputs": []
    },
    {
      "cell_type": "code",
      "metadata": {
        "id": "AH7PYaRjvrPH",
        "colab": {
          "base_uri": "https://localhost:8080/"
        },
        "outputId": "8d87557c-4afa-420d-fc85-c86f72939dce"
      },
      "source": [
        "_model = tf.keras.applications.densenet.DenseNet201( include_top=False, input_shape=(img_size, img_size,3), pooling='max', weights='imagenet')\n",
        "_model.trainable=False\n",
        "x=_model.layers[-1].output # this is the last layer in the mobilenet model the global max pooling layer\n",
        "x=keras.layers.BatchNormalization(axis=-1, momentum=0.99, epsilon=0.001 )(x)\n",
        "x=Dense(128, activation='relu')(x)\n",
        "x=Dropout(rate=.4, seed = 123)(x)\n",
        "predictions=Dense (len(classes), activation='softmax')(x)\n",
        "model = Model(inputs=_model.input, outputs=predictions)\n",
        "for layer in model.layers:\n",
        "    layer.trainable=True\n",
        "model.compile(Adamax(lr=lr), loss='categorical_crossentropy', metrics=['accuracy'])\n"
      ],
      "execution_count": null,
      "outputs": [
        {
          "output_type": "stream",
          "text": [
            "Downloading data from https://storage.googleapis.com/tensorflow/keras-applications/densenet/densenet201_weights_tf_dim_ordering_tf_kernels_notop.h5\n",
            "74842112/74836368 [==============================] - 1s 0us/step\n"
          ],
          "name": "stdout"
        }
      ]
    },
    {
      "cell_type": "code",
      "metadata": {
        "id": "0521XlyQv4uZ"
      },
      "source": [
        "class LRA(keras.callbacks.Callback):\n",
        "    best_weights=model.get_weights() # set a class vaiable so weights can be loaded after training is completed\n",
        "    def __init__(self, patience=2, threshold=.95, factor=.5):\n",
        "        super(LRA, self).__init__()\n",
        "        self.patience=patience # specifies how many epochs without improvement before learning rate is adjusted\n",
        "        self.threshold=threshold # specifies training accuracy threshold when lr will be adjusted based on validation loss\n",
        "        self.factor=factor # factor by which to reduce the learning rate\n",
        "        self.lr=float(tf.keras.backend.get_value(model.optimizer.lr)) # get the initiallearning rate and save it in self.lr\n",
        "        self.highest_tracc=0.0 # set highest training accuracy to 0\n",
        "        self.lowest_vloss=np.inf # set lowest validation loss to lowest\n",
        "        self.count=0\n",
        "        msg='\\n Starting Training - Initializing Custom Callback'\n",
        "        print_in_color (msg, (244, 252, 3), (55,65,80))\n",
        "\n",
        "    def on_epoch_end(self, epoch, logs=None):  # method runs on the end of each epoch\n",
        "        lr=float(tf.keras.backend.get_value(self.model.optimizer.lr)) # get the current learning rate\n",
        "        v_loss=logs.get('val_loss')  # get the validation loss for this epoch\n",
        "        acc=logs.get('accuracy')  # get training accuracy\n",
        "        if acc < self.threshold: # if training accuracy is below threshold adjust lr based on training accuracy\n",
        "            if acc>self.highest_tracc: # training accuracy improved in the epoch\n",
        "                msg= f'\\n training accuracy improved from  {self.highest_tracc:7.2f} to {acc:7.2f} learning rate held at {lr:9.6f}'\n",
        "                print_in_color(msg, (0,255,0), (55,65,80))\n",
        "                self.highest_tracc=acc # set new highest training accuracy\n",
        "                LRA.best_weights=model.get_weights() # training accuracy improved so save the weights\n",
        "                count=0 # set count to 0 since training accuracy improved\n",
        "                if v_loss<self.lowest_vloss:\n",
        "                    self.lowest_vloss=v_loss\n",
        "            else:  # training accuracy did not improve check if this has happened for patience number of epochs if so adjust the learning rate\n",
        "                if self.count>=self.patience -1:\n",
        "                    self.lr= lr* self.factor # adjust the learning rate by factor\n",
        "                    tf.keras.backend.set_value(model.optimizer.lr, self.lr) # set the learning rate in the optimizer\n",
        "                    self.count=0 # reset the count to 0\n",
        "                    if v_loss<self.lowest_vloss:\n",
        "                        self.lowest_vloss=v_loss\n",
        "                    msg=f'\\nfor epoch {epoch +1} training accuracy did not improve for {self.patience } consecutive epochs, learning rate adjusted to {lr:9.6f}'\n",
        "                    print_in_color(msg, (255,0,0), (55,65,80))\n",
        "                else:\n",
        "                    self.count=self.count +1\n",
        "                    msg=f'\\nfor  epoch {epoch +1} training accuracy did not improve, patience count incremented to {self.count}'\n",
        "                    print_in_color(msg, (255,255,0), (55,65,80))\n",
        "        else: # training accuracy is above threshold so adjust learning rate based on validation loss\n",
        "            if v_loss< self.lowest_vloss: # check if the validation loss improved\n",
        "                msg=f'\\n for epoch {epoch+1} validation loss improved from  {self.lowest_vloss:7.4f} to {v_loss:7.4}, saving best weights'\n",
        "                print_in_color(msg, (0,255,0), (55,65,80))\n",
        "                self.lowest_vloss=v_loss # replace lowest validation loss with new validation loss\n",
        "                LRA.best_weights=model.get_weights() # validation loss improved to save the weights\n",
        "                self.count=0 # reset count since validation loss improved\n",
        "            else: # validation loss does not improve\n",
        "                if self.count>=self.patience-1:\n",
        "                    self.lr=self.lr * self.factor\n",
        "                    msg=f' \\nfor epoch {epoch+1} validation loss failed to improve for {self.patience} consecutive epochs, learning rate adjusted to {self.lr:9.6f}'\n",
        "                    self.count=0 # reset counter\n",
        "                    print_in_color(msg, (255,0,0), (55,65,80))\n",
        "                    tf.keras.backend.set_value(model.optimizer.lr, self.lr) # set the learning rate in the optimizer\n",
        "                else:\n",
        "                    self.count =self.count +1 # increment the count\n",
        "                    msg=f' \\nfor epoch {epoch+1} validation loss did not improve patience count incremented to {self.count}'\n",
        "                    print_in_color(msg, (255,255,0), (55,65,80))"
      ],
      "execution_count": null,
      "outputs": []
    },
    {
      "cell_type": "code",
      "metadata": {
        "id": "-kuFl_Q3v7pQ"
      },
      "source": [
        "def tr_plot(tr_data):\n",
        "    #Plot the training and validation data\n",
        "    history=tr_data.history\n",
        "    tacc=results.history['accuracy']\n",
        "    tloss=results.history['loss']\n",
        "    vacc=results.history['val_accuracy']\n",
        "    vloss=results.history['val_loss']\n",
        "    Epoch_count=len(tloss)\n",
        "    Epochs=[]\n",
        "    for i in range (0,Epoch_count):\n",
        "        Epochs.append(i+1)\n",
        "    index_loss=np.argmin(vloss)#  this is the epoch with the lowest validation loss\n",
        "    val_lowest=vloss[index_loss]\n",
        "    index_acc=np.argmax(vacc)\n",
        "    val_highest=vacc[index_acc]\n",
        "    plt.style.use('fivethirtyeight')\n",
        "    sc_label='best epoch= '+ str(index_loss+1)\n",
        "    vc_label='best epoch= '+ str(index_acc + 1)\n",
        "    fig,axes=plt.subplots(nrows=1, ncols=2, figsize=(20,8))\n",
        "    axes[0].plot(Epochs,tloss, 'r', label='Training loss')\n",
        "    axes[0].plot(Epochs,vloss,'g',label='Validation loss' )\n",
        "    axes[0].scatter(index_loss+1,val_lowest, s=150, c= 'blue', label=sc_label)\n",
        "    axes[0].set_title('Training and Validation Loss')\n",
        "    axes[0].set_xlabel('Epochs')\n",
        "    axes[0].set_ylabel('Loss')\n",
        "    axes[0].legend()\n",
        "    axes[1].plot (Epochs,tacc,'r',label= 'Training Accuracy')\n",
        "    axes[1].plot (Epochs,vacc,'g',label= 'Validation Accuracy')\n",
        "    axes[1].scatter(index_acc+1,val_highest, s=150, c= 'blue', label=vc_label)\n",
        "    axes[1].set_title('Training and Validation Accuracy')\n",
        "    axes[1].set_xlabel('Epochs')\n",
        "    axes[1].set_ylabel('Accuracy')\n",
        "    axes[1].legend()\n",
        "    plt.tight_layout\n",
        "    #plt.style.use('fivethirtyeight')\n",
        "    plt.show()"
      ],
      "execution_count": null,
      "outputs": []
    },
    {
      "cell_type": "code",
      "metadata": {
        "colab": {
          "base_uri": "https://localhost:8080/"
        },
        "id": "-kBex0CmwAk8",
        "outputId": "320a43b2-0299-4b89-9fb5-d0a8074afbb6"
      },
      "source": [
        "callbacks=[LRA()]\n",
        "results=model.fit(x=train_gen,  epochs=epochs, verbose=1, callbacks=callbacks,  validation_data=test_gen,\n",
        "               validation_steps=test_steps,  shuffle=True,  initial_epoch=start_epoch)"
      ],
      "execution_count": null,
      "outputs": [
        {
          "output_type": "stream",
          "text": [
            "\u001b[38;2;244;252;3;48;2;55;65;80m\n",
            " Starting Training - Initializing Custom Callback\n",
            "\u001b[0m\n",
            "Epoch 1/30\n",
            "46/46 [==============================] - 572s 11s/step - loss: 0.6686 - accuracy: 0.7206 - val_loss: 1.8532 - val_accuracy: 0.6316\n",
            "\u001b[38;2;0;255;0;48;2;55;65;80m\n",
            " training accuracy improved from     0.00 to    0.75 learning rate held at  0.001000\n",
            "\u001b[0m\n",
            "Epoch 2/30\n",
            "46/46 [==============================] - 42s 910ms/step - loss: 0.4238 - accuracy: 0.8215 - val_loss: 0.2124 - val_accuracy: 0.8947\n",
            "\u001b[38;2;0;255;0;48;2;55;65;80m\n",
            " training accuracy improved from     0.75 to    0.83 learning rate held at  0.001000\n",
            "\u001b[0m\n",
            "Epoch 3/30\n",
            "46/46 [==============================] - 43s 927ms/step - loss: 0.2954 - accuracy: 0.8803 - val_loss: 0.8344 - val_accuracy: 0.9474\n",
            "\u001b[38;2;0;255;0;48;2;55;65;80m\n",
            " training accuracy improved from     0.83 to    0.89 learning rate held at  0.001000\n",
            "\u001b[0m\n",
            "Epoch 4/30\n",
            "46/46 [==============================] - 43s 940ms/step - loss: 0.1962 - accuracy: 0.9215 - val_loss: 5.2001 - val_accuracy: 0.6842\n",
            "\u001b[38;2;0;255;0;48;2;55;65;80m\n",
            " training accuracy improved from     0.89 to    0.93 learning rate held at  0.001000\n",
            "\u001b[0m\n",
            "Epoch 5/30\n",
            "46/46 [==============================] - 44s 949ms/step - loss: 0.1468 - accuracy: 0.9441 - val_loss: 0.0154 - val_accuracy: 1.0000\n",
            "\u001b[38;2;0;255;0;48;2;55;65;80m\n",
            " training accuracy improved from     0.93 to    0.95 learning rate held at  0.001000\n",
            "\u001b[0m\n",
            "Epoch 6/30\n",
            "46/46 [==============================] - 44s 958ms/step - loss: 0.0963 - accuracy: 0.9587 - val_loss: 0.3025 - val_accuracy: 0.8947\n",
            "\u001b[38;2;255;255;0;48;2;55;65;80m \n",
            "for epoch 6 validation loss did not improve patience count incremented to 1\n",
            "\u001b[0m\n",
            "Epoch 7/30\n",
            "46/46 [==============================] - 44s 963ms/step - loss: 0.0702 - accuracy: 0.9724 - val_loss: 0.0105 - val_accuracy: 1.0000\n",
            "\u001b[38;2;0;255;0;48;2;55;65;80m\n",
            " for epoch 7 validation loss improved from   0.0154 to 0.01049, saving best weights\n",
            "\u001b[0m\n",
            "Epoch 8/30\n",
            "46/46 [==============================] - 44s 964ms/step - loss: 0.0593 - accuracy: 0.9784 - val_loss: 5.6791e-04 - val_accuracy: 1.0000\n",
            "\u001b[38;2;0;255;0;48;2;55;65;80m\n",
            " for epoch 8 validation loss improved from   0.0105 to 0.0005679, saving best weights\n",
            "\u001b[0m\n",
            "Epoch 9/30\n",
            "46/46 [==============================] - 44s 964ms/step - loss: 0.0610 - accuracy: 0.9806 - val_loss: 0.0265 - val_accuracy: 1.0000\n",
            "\u001b[38;2;255;255;0;48;2;55;65;80m \n",
            "for epoch 9 validation loss did not improve patience count incremented to 1\n",
            "\u001b[0m\n",
            "Epoch 10/30\n",
            "46/46 [==============================] - 45s 965ms/step - loss: 0.0482 - accuracy: 0.9799 - val_loss: 0.0475 - val_accuracy: 0.9474\n",
            "\u001b[38;2;255;0;0;48;2;55;65;80m \n",
            "for epoch 10 validation loss failed to improve for 2 consecutive epochs, learning rate adjusted to  0.000500\n",
            "\u001b[0m\n",
            "Epoch 11/30\n",
            "46/46 [==============================] - 44s 964ms/step - loss: 0.0270 - accuracy: 0.9922 - val_loss: 0.1452 - val_accuracy: 0.9474\n",
            "\u001b[38;2;255;255;0;48;2;55;65;80m \n",
            "for epoch 11 validation loss did not improve patience count incremented to 1\n",
            "\u001b[0m\n",
            "Epoch 12/30\n",
            "46/46 [==============================] - 44s 964ms/step - loss: 0.0099 - accuracy: 0.9991 - val_loss: 0.1794 - val_accuracy: 0.9474\n",
            "\u001b[38;2;255;0;0;48;2;55;65;80m \n",
            "for epoch 12 validation loss failed to improve for 2 consecutive epochs, learning rate adjusted to  0.000250\n",
            "\u001b[0m\n",
            "Epoch 13/30\n",
            "46/46 [==============================] - 45s 964ms/step - loss: 0.0087 - accuracy: 0.9977 - val_loss: 0.1588 - val_accuracy: 0.9474\n",
            "\u001b[38;2;255;255;0;48;2;55;65;80m \n",
            "for epoch 13 validation loss did not improve patience count incremented to 1\n",
            "\u001b[0m\n",
            "Epoch 14/30\n",
            "46/46 [==============================] - 44s 964ms/step - loss: 0.0047 - accuracy: 0.9996 - val_loss: 0.1116 - val_accuracy: 0.9474\n",
            "\u001b[38;2;255;0;0;48;2;55;65;80m \n",
            "for epoch 14 validation loss failed to improve for 2 consecutive epochs, learning rate adjusted to  0.000125\n",
            "\u001b[0m\n",
            "Epoch 15/30\n",
            "46/46 [==============================] - 44s 964ms/step - loss: 0.0035 - accuracy: 0.9993 - val_loss: 0.1001 - val_accuracy: 0.9474\n",
            "\u001b[38;2;255;255;0;48;2;55;65;80m \n",
            "for epoch 15 validation loss did not improve patience count incremented to 1\n",
            "\u001b[0m\n",
            "Epoch 16/30\n",
            "46/46 [==============================] - 45s 965ms/step - loss: 0.0035 - accuracy: 0.9991 - val_loss: 0.1354 - val_accuracy: 0.9474\n",
            "\u001b[38;2;255;0;0;48;2;55;65;80m \n",
            "for epoch 16 validation loss failed to improve for 2 consecutive epochs, learning rate adjusted to  0.000063\n",
            "\u001b[0m\n",
            "Epoch 17/30\n",
            "46/46 [==============================] - 45s 965ms/step - loss: 0.0024 - accuracy: 0.9999 - val_loss: 0.1369 - val_accuracy: 0.9474\n",
            "\u001b[38;2;255;255;0;48;2;55;65;80m \n",
            "for epoch 17 validation loss did not improve patience count incremented to 1\n",
            "\u001b[0m\n",
            "Epoch 18/30\n",
            "46/46 [==============================] - 45s 966ms/step - loss: 0.0053 - accuracy: 0.9993 - val_loss: 0.1320 - val_accuracy: 0.9474\n",
            "\u001b[38;2;255;0;0;48;2;55;65;80m \n",
            "for epoch 18 validation loss failed to improve for 2 consecutive epochs, learning rate adjusted to  0.000031\n",
            "\u001b[0m\n",
            "Epoch 19/30\n",
            "46/46 [==============================] - 44s 964ms/step - loss: 0.0020 - accuracy: 1.0000 - val_loss: 0.1303 - val_accuracy: 0.9474\n",
            "\u001b[38;2;255;255;0;48;2;55;65;80m \n",
            "for epoch 19 validation loss did not improve patience count incremented to 1\n",
            "\u001b[0m\n",
            "Epoch 20/30\n",
            "46/46 [==============================] - 45s 965ms/step - loss: 0.0023 - accuracy: 0.9999 - val_loss: 0.1313 - val_accuracy: 0.9474\n",
            "\u001b[38;2;255;0;0;48;2;55;65;80m \n",
            "for epoch 20 validation loss failed to improve for 2 consecutive epochs, learning rate adjusted to  0.000016\n",
            "\u001b[0m\n",
            "Epoch 21/30\n",
            "46/46 [==============================] - 44s 964ms/step - loss: 0.0029 - accuracy: 0.9997 - val_loss: 0.1279 - val_accuracy: 0.9474\n",
            "\u001b[38;2;255;255;0;48;2;55;65;80m \n",
            "for epoch 21 validation loss did not improve patience count incremented to 1\n",
            "\u001b[0m\n",
            "Epoch 22/30\n",
            "46/46 [==============================] - 44s 964ms/step - loss: 0.0025 - accuracy: 1.0000 - val_loss: 0.1272 - val_accuracy: 0.9474\n",
            "\u001b[38;2;255;0;0;48;2;55;65;80m \n",
            "for epoch 22 validation loss failed to improve for 2 consecutive epochs, learning rate adjusted to  0.000008\n",
            "\u001b[0m\n",
            "Epoch 23/30\n",
            "46/46 [==============================] - 44s 964ms/step - loss: 0.0020 - accuracy: 1.0000 - val_loss: 0.1255 - val_accuracy: 0.9474\n",
            "\u001b[38;2;255;255;0;48;2;55;65;80m \n",
            "for epoch 23 validation loss did not improve patience count incremented to 1\n",
            "\u001b[0m\n",
            "Epoch 24/30\n",
            "46/46 [==============================] - 44s 963ms/step - loss: 0.0017 - accuracy: 1.0000 - val_loss: 0.1264 - val_accuracy: 0.9474\n",
            "\u001b[38;2;255;0;0;48;2;55;65;80m \n",
            "for epoch 24 validation loss failed to improve for 2 consecutive epochs, learning rate adjusted to  0.000004\n",
            "\u001b[0m\n",
            "Epoch 25/30\n",
            "46/46 [==============================] - 44s 963ms/step - loss: 0.0019 - accuracy: 1.0000 - val_loss: 0.1283 - val_accuracy: 0.9474\n",
            "\u001b[38;2;255;255;0;48;2;55;65;80m \n",
            "for epoch 25 validation loss did not improve patience count incremented to 1\n",
            "\u001b[0m\n",
            "Epoch 26/30\n",
            "46/46 [==============================] - 44s 963ms/step - loss: 0.0024 - accuracy: 1.0000 - val_loss: 0.1296 - val_accuracy: 0.9474\n",
            "\u001b[38;2;255;0;0;48;2;55;65;80m \n",
            "for epoch 26 validation loss failed to improve for 2 consecutive epochs, learning rate adjusted to  0.000002\n",
            "\u001b[0m\n",
            "Epoch 27/30\n",
            "46/46 [==============================] - 44s 963ms/step - loss: 0.0027 - accuracy: 1.0000 - val_loss: 0.1293 - val_accuracy: 0.9474\n",
            "\u001b[38;2;255;255;0;48;2;55;65;80m \n",
            "for epoch 27 validation loss did not improve patience count incremented to 1\n",
            "\u001b[0m\n",
            "Epoch 28/30\n",
            "46/46 [==============================] - 44s 963ms/step - loss: 0.0029 - accuracy: 1.0000 - val_loss: 0.1319 - val_accuracy: 0.9474\n",
            "\u001b[38;2;255;0;0;48;2;55;65;80m \n",
            "for epoch 28 validation loss failed to improve for 2 consecutive epochs, learning rate adjusted to  0.000001\n",
            "\u001b[0m\n",
            "Epoch 29/30\n",
            "46/46 [==============================] - 44s 962ms/step - loss: 0.0018 - accuracy: 1.0000 - val_loss: 0.1299 - val_accuracy: 0.9474\n",
            "\u001b[38;2;255;255;0;48;2;55;65;80m \n",
            "for epoch 29 validation loss did not improve patience count incremented to 1\n",
            "\u001b[0m\n",
            "Epoch 30/30\n",
            "46/46 [==============================] - 44s 963ms/step - loss: 0.0031 - accuracy: 0.9995 - val_loss: 0.1314 - val_accuracy: 0.9474\n",
            "\u001b[38;2;255;0;0;48;2;55;65;80m \n",
            "for epoch 30 validation loss failed to improve for 2 consecutive epochs, learning rate adjusted to  0.000000\n",
            "\u001b[0m\n"
          ],
          "name": "stdout"
        }
      ]
    },
    {
      "cell_type": "code",
      "metadata": {
        "id": "c9dpBYXpwDmb",
        "colab": {
          "base_uri": "https://localhost:8080/",
          "height": 558
        },
        "outputId": "defbc223-0da7-4767-b3fe-1dd91ff22e00"
      },
      "source": [
        "tr_plot(results)"
      ],
      "execution_count": null,
      "outputs": [
        {
          "output_type": "display_data",
          "data": {
            "image/png": "[encoded data removed]",
            "text/plain": [
              "<Figure size 1440x576 with 2 Axes>"
            ]
          },
          "metadata": {
            "tags": []
          }
        }
      ]
    },
    {
      "cell_type": "code",
      "metadata": {
        "id": "OShEpvQOwx96",
        "colab": {
          "base_uri": "https://localhost:8080/"
        },
        "outputId": "217491a3-84f2-4d6c-fd13-87d1b83f0033"
      },
      "source": [
        "model.set_weights(LRA.best_weights)\n",
        "acc_val=model.evaluate( valid_gen, batch_size=valid_batch_size, verbose=1, steps=valid_steps)[1]* 100\n",
        "msg_val=f'accuracy on the test set is {acc_val:5.2f} %'\n",
        "print_in_color(msg_val, (0,255,0),(55,65,80))"
      ],
      "execution_count": null,
      "outputs": [
        {
          "output_type": "stream",
          "text": [
            "197/197 [==============================] - 40s 195ms/step - loss: 0.2377 - accuracy: 0.9086\n",
            "\u001b[38;2;0;255;0;48;2;55;65;80maccuracy on the test set is 90.86 %\n",
            "\u001b[0m\n"
          ],
          "name": "stdout"
        }
      ]
    },
    {
      "cell_type": "code",
      "metadata": {
        "id": "1bNN6cHS7aiV",
        "colab": {
          "base_uri": "https://localhost:8080/"
        },
        "outputId": "99c4d454-5af4-4f6b-ddb1-ca29a284d7d2"
      },
      "source": [
        "from sklearn.metrics import classification_report\n",
        "y_pred = model.predict(valid_gen, batch_size=64, verbose = 1)\n",
        "y_pred_bool = np.argmax(y_pred, axis = 1)\n",
        "print(classification_report(val_labels, y_pred_bool))\n",
        "#print(y_pred_bool)\n",
        "#print(val_labels)"
      ],
      "execution_count": null,
      "outputs": [
        {
          "output_type": "stream",
          "text": [
            "197/197 [==============================] - 4s 23ms/step\n",
            "              precision    recall  f1-score   support\n",
            "\n",
            "           0       0.91      0.97      0.94       147\n",
            "           1       0.90      0.72      0.80        50\n",
            "\n",
            "    accuracy                           0.91       197\n",
            "   macro avg       0.91      0.85      0.87       197\n",
            "weighted avg       0.91      0.91      0.91       197\n",
            "\n"
          ],
          "name": "stdout"
        }
      ]
    },
    {
      "cell_type": "code",
      "metadata": {
        "id": "VJapFq4C48LB"
      },
      "source": [
        "# #convert videos to images\n",
        "# import cv2\n",
        "# import os\n",
        "# from os import listdir\n",
        "# from os.path import isfile, join\n",
        "\n",
        "# in_path = \"/content/drive/My Drive/Clips_Autism/\"\n",
        "# out_path = \"/content/drive/My Drive/Clips_Autism/Test_Autism\"\n",
        "# frame_rate = 100\n",
        "# if(os.path.isdir(out_path) == False):\n",
        "# \tos.mkdir(out_path)\n",
        "# else:\n",
        "# \tprint(\"There is a test folder existing, to avoid overlap images, please backup/remove this folder.\")\n",
        "# \texit()\n",
        "\n",
        "# files = [f for f in listdir(in_path) if isfile(join(in_path, f))]\n",
        "# print(\"found the following files: \\n %s\" % files)\n",
        "\n",
        "# for file in files[0]:\n",
        "# \tvidcap = cv2.VideoCapture(join(in_path, file))\n",
        "# \tframe_base_name = file[:-4]\n",
        "# \tprint(\"processing %s \" % frame_base_name)\n",
        "# \tsuccess,image = vidcap.read()\n",
        "# \tcount = 0\n",
        "# \twhile success:\n",
        "# \t\tframe_name = frame_base_name + '_' + str(count)\n",
        "# \t\tif count % frame_rate == 0:\n",
        "# \t\t\tresize_image = cv2.resize(image, (224, 224))\n",
        "# \t\t\tcv2.imwrite(\"%s.jpg\" % join(out_path, frame_name), resize_image)     # save frame as JPEG file\n",
        "# \t\t\tprint('Read a new frame for %s : ' % (frame_name), success)\n",
        "# \t\tsuccess,image = vidcap.read()\n",
        "# \t\tcount += 1\n"
      ],
      "execution_count": null,
      "outputs": []
    },
    {
      "cell_type": "code",
      "metadata": {
        "id": "QjAfIwACw50u",
        "colab": {
          "base_uri": "https://localhost:8080/"
        },
        "outputId": "52bc5072-fad3-45ba-cbb8-22ee6d3d314f"
      },
      "source": [
        "# Save the  model to use later\n",
        "import keras\n",
        "from keras.models import model_from_json\n",
        "fer_json = model.to_json()\n",
        "\n",
        "with open(\"/content/drive/MyDrive/Module 2 Material/densenet.json\", \"w\") as json_file:\n",
        "    json_file.write(fer_json)\n",
        "model.save_weights(\"/content/drive/MyDrive/Module 2 Material/densenet.h5\")\n",
        "# load json and create model\n",
        "json_file = open('/content/drive/MyDrive/Module 2 Material/densenet.json', 'r')\n",
        "loaded_model_json = json_file.read()\n",
        "json_file.close()\n",
        "loaded_model = model_from_json(loaded_model_json)\n",
        "# load weights into new model\n",
        "loaded_model.load_weights(\"/content/drive/MyDrive/Module 2 Material/densenet.h5\")\n",
        "print(\"Loaded model from disk\")\n",
        "# # Evaluate the model on the test data using `evaluate`\n",
        "# loaded_model.compile(loss='binary_crossentropy', optimizer='adam', metrics=['accuracy'])\n",
        "# score = loaded_model.evaluate(real_X_test, real_test_y, batch_size=batch_size)\n",
        "\n",
        "# print(\"Evaluate on test data\")\n",
        "# results = model.evaluate(real_X_test, real_test_y, batch_size=batch_size)\n",
        "# print(\"test loss, test acc:\", results)\n",
        "\n",
        "# # Generate predictions (probabilities -- the output of the last layer)\n",
        "# # on new data using `predict`\n",
        "# print(\"Generate predictions for 3 samples\")\n",
        "# predictions = model.predict(real_X_test[:3])\n",
        "# print(\"predictions shape:\", predictions.shape)"
      ],
      "execution_count": null,
      "outputs": [
        {
          "output_type": "stream",
          "text": [
            "Loaded model from disk\n"
          ],
          "name": "stdout"
        }
      ]
    }
  ]
}